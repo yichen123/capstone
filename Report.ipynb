{
 "cells": [
  {
   "cell_type": "markdown",
   "metadata": {},
   "source": [
    "Capstone Project\n",
    "==================\n",
    "\n",
    "data exploration\n",
    "------------\n",
    "\n",
    "## For start, what data we can get from the setting?\n",
    "* four diections, up, down, right, and left are represented by\n",
    "    up, down, right, left, u, d, r, l\n",
    "\n",
    "## For a given maze, we first see what data we can collect\n",
    "\n",
    "* with $sense()$ function, we can get a list with three integers\n",
    " "
   ]
  },
  {
   "cell_type": "code",
   "execution_count": null,
   "metadata": {
    "collapsed": true
   },
   "outputs": [],
   "source": []
  }
 ],
 "metadata": {
  "kernelspec": {
   "display_name": "Python [Root]",
   "language": "python",
   "name": "Python [Root]"
  },
  "language_info": {
   "codemirror_mode": {
    "name": "ipython",
    "version": 2
   },
   "file_extension": ".py",
   "mimetype": "text/x-python",
   "name": "python",
   "nbconvert_exporter": "python",
   "pygments_lexer": "ipython2",
   "version": "2.7.12"
  }
 },
 "nbformat": 4,
 "nbformat_minor": 0
}
